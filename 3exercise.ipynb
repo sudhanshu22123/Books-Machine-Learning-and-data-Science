{
  "nbformat": 4,
  "nbformat_minor": 0,
  "metadata": {
    "colab": {
      "provenance": [],
      "authorship_tag": "ABX9TyMpqiDq65LqbB8kLz+Ily5E",
      "include_colab_link": true
    },
    "kernelspec": {
      "name": "python3",
      "display_name": "Python 3"
    },
    "language_info": {
      "name": "python"
    }
  },
  "cells": [
    {
      "cell_type": "markdown",
      "metadata": {
        "id": "view-in-github",
        "colab_type": "text"
      },
      "source": [
        "<a href=\"https://colab.research.google.com/github/sudhanshu22123/Books-Machine-Learning-and-data-Science/blob/main/3exercise.ipynb\" target=\"_parent\"><img src=\"https://colab.research.google.com/assets/colab-badge.svg\" alt=\"Open In Colab\"/></a>"
      ]
    },
    {
      "cell_type": "code",
      "execution_count": 20,
      "metadata": {
        "id": "uGfXv6h7CCbI"
      },
      "outputs": [],
      "source": [
        "import tensorflow\n",
        "import keras\n",
        "import numpy as np\n",
        "import matplotlib.pyplot as plt\n",
        "%matplotlib inline"
      ]
    },
    {
      "cell_type": "code",
      "source": [
        "from keras.datasets import cifar10\n",
        "(x_train,y_train),(x_test,y_test)=cifar10.load_data()"
      ],
      "metadata": {
        "id": "064pCYxmCoDa"
      },
      "execution_count": 21,
      "outputs": []
    },
    {
      "cell_type": "code",
      "source": [
        "x_train.shape\n",
        "##it is train data"
      ],
      "metadata": {
        "colab": {
          "base_uri": "https://localhost:8080/"
        },
        "id": "J82ybos5Cs-y",
        "outputId": "0deddf16-8977-4105-c4f6-c0fe48325a33"
      },
      "execution_count": 22,
      "outputs": [
        {
          "output_type": "execute_result",
          "data": {
            "text/plain": [
              "(50000, 32, 32, 3)"
            ]
          },
          "metadata": {},
          "execution_count": 22
        }
      ]
    },
    {
      "cell_type": "code",
      "source": [
        "x_test.shape\n",
        "#this is test data"
      ],
      "metadata": {
        "colab": {
          "base_uri": "https://localhost:8080/"
        },
        "id": "QF0ajropCxv4",
        "outputId": "4678cd5b-b838-4f4e-dcee-a2575c4e6338"
      },
      "execution_count": 23,
      "outputs": [
        {
          "output_type": "execute_result",
          "data": {
            "text/plain": [
              "(10000, 32, 32, 3)"
            ]
          },
          "metadata": {},
          "execution_count": 23
        }
      ]
    },
    {
      "cell_type": "code",
      "source": [
        "x_train[100]"
      ],
      "metadata": {
        "colab": {
          "base_uri": "https://localhost:8080/",
          "height": 74
        },
        "id": "XgHM8BUCC045",
        "outputId": "080979f1-b310-436c-a4be-c23259f9e4af"
      },
      "execution_count": 24,
      "outputs": [
        {
          "output_type": "execute_result",
          "data": {
            "text/plain": [
              "array([[[213, 229, 242],\n",
              "        [211, 227, 240],\n",
              "        [211, 227, 240],\n",
              "        ...,\n",
              "        [151, 174, 206],\n",
              "        [151, 174, 206],\n",
              "        [149, 172, 204]],\n",
              "\n",
              "       [[214, 229, 241],\n",
              "        [212, 227, 239],\n",
              "        [212, 227, 239],\n",
              "        ...,\n",
              "        [152, 175, 207],\n",
              "        [152, 175, 207],\n",
              "        [151, 174, 205]],\n",
              "\n",
              "       [[216, 229, 239],\n",
              "        [214, 227, 237],\n",
              "        [213, 227, 237],\n",
              "        ...,\n",
              "        [153, 176, 206],\n",
              "        [153, 176, 206],\n",
              "        [151, 174, 204]],\n",
              "\n",
              "       ...,\n",
              "\n",
              "       [[145, 159, 165],\n",
              "        [136, 148, 154],\n",
              "        [143, 152, 158],\n",
              "        ...,\n",
              "        [216, 217, 206],\n",
              "        [196, 197, 191],\n",
              "        [183, 183, 182]],\n",
              "\n",
              "       [[139, 153, 159],\n",
              "        [129, 142, 148],\n",
              "        [129, 139, 145],\n",
              "        ...,\n",
              "        [227, 228, 219],\n",
              "        [223, 224, 219],\n",
              "        [209, 209, 209]],\n",
              "\n",
              "       [[137, 152, 157],\n",
              "        [143, 155, 161],\n",
              "        [136, 145, 152],\n",
              "        ...,\n",
              "        [209, 209, 203],\n",
              "        [217, 217, 213],\n",
              "        [228, 228, 226]]], dtype=uint8)"
            ],
            "text/html": [
              "<style>\n",
              "      .ndarray_repr .ndarray_raw_data {\n",
              "        display: none;\n",
              "      }\n",
              "      .ndarray_repr.show_array .ndarray_raw_data {\n",
              "        display: block;\n",
              "      }\n",
              "      .ndarray_repr.show_array .ndarray_image_preview {\n",
              "        display: none;\n",
              "      }\n",
              "      </style>\n",
              "      <div id=\"id-59514660-22b5-48fd-bc83-4a13b135df26\" class=\"ndarray_repr\"><pre>ndarray (32, 32, 3) <button style=\"padding: 0 2px;\">show data</button></pre><img src=\"data:image/png;base64,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\" class=\"ndarray_image_preview\" /><pre class=\"ndarray_raw_data\">array([[[213, 229, 242],\n",
              "        [211, 227, 240],\n",
              "        [211, 227, 240],\n",
              "        ...,\n",
              "        [151, 174, 206],\n",
              "        [151, 174, 206],\n",
              "        [149, 172, 204]],\n",
              "\n",
              "       [[214, 229, 241],\n",
              "        [212, 227, 239],\n",
              "        [212, 227, 239],\n",
              "        ...,\n",
              "        [152, 175, 207],\n",
              "        [152, 175, 207],\n",
              "        [151, 174, 205]],\n",
              "\n",
              "       [[216, 229, 239],\n",
              "        [214, 227, 237],\n",
              "        [213, 227, 237],\n",
              "        ...,\n",
              "        [153, 176, 206],\n",
              "        [153, 176, 206],\n",
              "        [151, 174, 204]],\n",
              "\n",
              "       ...,\n",
              "\n",
              "       [[145, 159, 165],\n",
              "        [136, 148, 154],\n",
              "        [143, 152, 158],\n",
              "        ...,\n",
              "        [216, 217, 206],\n",
              "        [196, 197, 191],\n",
              "        [183, 183, 182]],\n",
              "\n",
              "       [[139, 153, 159],\n",
              "        [129, 142, 148],\n",
              "        [129, 139, 145],\n",
              "        ...,\n",
              "        [227, 228, 219],\n",
              "        [223, 224, 219],\n",
              "        [209, 209, 209]],\n",
              "\n",
              "       [[137, 152, 157],\n",
              "        [143, 155, 161],\n",
              "        [136, 145, 152],\n",
              "        ...,\n",
              "        [209, 209, 203],\n",
              "        [217, 217, 213],\n",
              "        [228, 228, 226]]], dtype=uint8)</pre></div><script>\n",
              "      (() => {\n",
              "      const titles = ['show data', 'hide data'];\n",
              "      let index = 0\n",
              "      document.querySelector('#id-59514660-22b5-48fd-bc83-4a13b135df26 button').onclick = (e) => {\n",
              "        document.querySelector('#id-59514660-22b5-48fd-bc83-4a13b135df26').classList.toggle('show_array');\n",
              "        index = (++index) % 2;\n",
              "        document.querySelector('#id-59514660-22b5-48fd-bc83-4a13b135df26 button').textContent = titles[index];\n",
              "        e.preventDefault();\n",
              "        e.stopPropagation();\n",
              "      }\n",
              "      })();\n",
              "    </script>"
            ]
          },
          "metadata": {},
          "execution_count": 24
        }
      ]
    },
    {
      "cell_type": "code",
      "source": [
        "plt.matshow(x_train[8])"
      ],
      "metadata": {
        "colab": {
          "base_uri": "https://localhost:8080/",
          "height": 455
        },
        "id": "WM1CNGpJC9NK",
        "outputId": "db913d3b-831a-4ae2-913b-414fbf2b6479"
      },
      "execution_count": 25,
      "outputs": [
        {
          "output_type": "execute_result",
          "data": {
            "text/plain": [
              "<matplotlib.image.AxesImage at 0x7d734030e470>"
            ]
          },
          "metadata": {},
          "execution_count": 25
        },
        {
          "output_type": "display_data",
          "data": {
            "text/plain": [
              "<Figure size 480x480 with 1 Axes>"
            ],
            "image/png": "[encoded data removed]"
          },
          "metadata": {}
        }
      ]
    },
    {
      "cell_type": "code",
      "source": [
        "X_train=x_train/255\n",
        "X_test=x_test/255"
      ],
      "metadata": {
        "id": "kjwreZ2QDAI8"
      },
      "execution_count": 26,
      "outputs": []
    },
    {
      "cell_type": "code",
      "source": [
        "X_train[8]"
      ],
      "metadata": {
        "colab": {
          "base_uri": "https://localhost:8080/"
        },
        "id": "XUvGxpwvDFO0",
        "outputId": "3958077b-a4ae-428e-cbb1-46f66debe707"
      },
      "execution_count": 27,
      "outputs": [
        {
          "output_type": "execute_result",
          "data": {
            "text/plain": [
              "array([[[0.5254902 , 0.72941176, 0.8745098 ],\n",
              "        [0.51372549, 0.72156863, 0.8627451 ],\n",
              "        [0.50196078, 0.71372549, 0.85490196],\n",
              "        ...,\n",
              "        [0.49803922, 0.70980392, 0.87058824],\n",
              "        [0.49803922, 0.70980392, 0.87058824],\n",
              "        [0.50196078, 0.71372549, 0.8745098 ]],\n",
              "\n",
              "       [[0.52156863, 0.74117647, 0.89411765],\n",
              "        [0.50588235, 0.72941176, 0.87843137],\n",
              "        [0.50196078, 0.72941176, 0.87843137],\n",
              "        ...,\n",
              "        [0.49803922, 0.71764706, 0.87843137],\n",
              "        [0.49803922, 0.71764706, 0.87843137],\n",
              "        [0.50196078, 0.72156863, 0.88235294]],\n",
              "\n",
              "       [[0.50196078, 0.7254902 , 0.88627451],\n",
              "        [0.49803922, 0.71372549, 0.8745098 ],\n",
              "        [0.50196078, 0.71372549, 0.8745098 ],\n",
              "        ...,\n",
              "        [0.49411765, 0.70980392, 0.87058824],\n",
              "        [0.49411765, 0.70980392, 0.87058824],\n",
              "        [0.49411765, 0.70588235, 0.86666667]],\n",
              "\n",
              "       ...,\n",
              "\n",
              "       [[0.68235294, 0.81568627, 0.92156863],\n",
              "        [0.67058824, 0.80784314, 0.89803922],\n",
              "        [0.60784314, 0.74117647, 0.84705882],\n",
              "        ...,\n",
              "        [0.10588235, 0.36862745, 0.53333333],\n",
              "        [0.11372549, 0.37647059, 0.5372549 ],\n",
              "        [0.10980392, 0.36862745, 0.53333333]],\n",
              "\n",
              "       [[0.76078431, 0.86666667, 0.95686275],\n",
              "        [0.74117647, 0.84313725, 0.9372549 ],\n",
              "        [0.62352941, 0.76862745, 0.88235294],\n",
              "        ...,\n",
              "        [0.11764706, 0.37254902, 0.54117647],\n",
              "        [0.11764706, 0.37647059, 0.54509804],\n",
              "        [0.11764706, 0.37254902, 0.54901961]],\n",
              "\n",
              "       [[0.75686275, 0.85098039, 0.92941176],\n",
              "        [0.70980392, 0.81568627, 0.90196078],\n",
              "        [0.65882353, 0.78823529, 0.89019608],\n",
              "        ...,\n",
              "        [0.12156863, 0.36862745, 0.53333333],\n",
              "        [0.1254902 , 0.36862745, 0.5372549 ],\n",
              "        [0.1254902 , 0.36862745, 0.54117647]]])"
            ]
          },
          "metadata": {},
          "execution_count": 27
        }
      ]
    },
    {
      "cell_type": "code",
      "source": [
        "from tensorflow.keras.models import Sequential\n",
        "from tensorflow.keras.layers import Dense,Activation,Flatten"
      ],
      "metadata": {
        "id": "463S_Tj0DHtC"
      },
      "execution_count": 28,
      "outputs": []
    },
    {
      "cell_type": "code",
      "source": [
        "model=Sequential()"
      ],
      "metadata": {
        "id": "b-2IZlroDL-h"
      },
      "execution_count": 29,
      "outputs": []
    },
    {
      "cell_type": "code",
      "source": [
        "model.add(Flatten(input_shape=[32,32,3]))\n",
        "model.add(Dense(200,activation='relu'))\n",
        "model.add(Dense(10,activation='softmax'))"
      ],
      "metadata": {
        "id": "sqNQi98KDOXK"
      },
      "execution_count": 30,
      "outputs": []
    },
    {
      "cell_type": "code",
      "source": [
        "model.summary()"
      ],
      "metadata": {
        "colab": {
          "base_uri": "https://localhost:8080/"
        },
        "id": "wiGU4q3-DQrw",
        "outputId": "0c3475f9-8702-43b9-e48a-3f7c5b39e133"
      },
      "execution_count": 31,
      "outputs": [
        {
          "output_type": "stream",
          "name": "stdout",
          "text": [
            "Model: \"sequential_1\"\n",
            "_________________________________________________________________\n",
            " Layer (type)                Output Shape              Param #   \n",
            "=================================================================\n",
            " flatten_2 (Flatten)         (None, 3072)              0         \n",
            "                                                                 \n",
            " dense_4 (Dense)             (None, 200)               614600    \n",
            "                                                                 \n",
            " dense_5 (Dense)             (None, 10)                2010      \n",
            "                                                                 \n",
            "=================================================================\n",
            "Total params: 616610 (2.35 MB)\n",
            "Trainable params: 616610 (2.35 MB)\n",
            "Non-trainable params: 0 (0.00 Byte)\n",
            "_________________________________________________________________\n"
          ]
        }
      ]
    },
    {
      "cell_type": "code",
      "source": [
        "model.compile(loss=\"sparse_categorical_crossentropy\", optimizer=\"adam\", metrics=[\"accuracy\"])"
      ],
      "metadata": {
        "id": "nskt5zHlDTI8"
      },
      "execution_count": 32,
      "outputs": []
    },
    {
      "cell_type": "code",
      "source": [
        "model.fit(X_train,y_train,epochs=10)"
      ],
      "metadata": {
        "colab": {
          "base_uri": "https://localhost:8080/"
        },
        "id": "oijTWsvlDXFF",
        "outputId": "84622b6b-8c7f-451b-c3df-2a2e9409acfe"
      },
      "execution_count": 33,
      "outputs": [
        {
          "output_type": "stream",
          "name": "stdout",
          "text": [
            "Epoch 1/10\n",
            "1563/1563 [==============================] - 16s 9ms/step - loss: 1.8948 - accuracy: 0.3246\n",
            "Epoch 2/10\n",
            "1563/1563 [==============================] - 15s 10ms/step - loss: 1.7268 - accuracy: 0.3812\n",
            "Epoch 3/10\n",
            "1563/1563 [==============================] - 15s 10ms/step - loss: 1.6610 - accuracy: 0.4066\n",
            "Epoch 4/10\n",
            "1563/1563 [==============================] - 16s 10ms/step - loss: 1.6243 - accuracy: 0.4215\n",
            "Epoch 5/10\n",
            "1563/1563 [==============================] - 15s 10ms/step - loss: 1.5983 - accuracy: 0.4309\n",
            "Epoch 6/10\n",
            "1563/1563 [==============================] - 15s 10ms/step - loss: 1.5770 - accuracy: 0.4376\n",
            "Epoch 7/10\n",
            "1563/1563 [==============================] - 15s 10ms/step - loss: 1.5595 - accuracy: 0.4421\n",
            "Epoch 8/10\n",
            "1563/1563 [==============================] - 17s 11ms/step - loss: 1.5427 - accuracy: 0.4510\n",
            "Epoch 9/10\n",
            "1563/1563 [==============================] - 15s 10ms/step - loss: 1.5286 - accuracy: 0.4531\n",
            "Epoch 10/10\n",
            "1563/1563 [==============================] - 15s 10ms/step - loss: 1.5180 - accuracy: 0.4593\n"
          ]
        },
        {
          "output_type": "execute_result",
          "data": {
            "text/plain": [
              "<keras.src.callbacks.History at 0x7d73401a4850>"
            ]
          },
          "metadata": {},
          "execution_count": 33
        }
      ]
    },
    {
      "cell_type": "code",
      "source": [
        "#https://keras.io/api/datasets/cifar10/"
      ],
      "metadata": {
        "id": "lqEgll_tDcVD"
      },
      "execution_count": 34,
      "outputs": []
    },
    {
      "cell_type": "code",
      "source": [
        "plt.matshow(X_test[217])"
      ],
      "metadata": {
        "colab": {
          "base_uri": "https://localhost:8080/",
          "height": 455
        },
        "id": "3t46NiIAFHw1",
        "outputId": "42bedd72-2f9e-4e69-81eb-56df6c14e9b9"
      },
      "execution_count": 35,
      "outputs": [
        {
          "output_type": "execute_result",
          "data": {
            "text/plain": [
              "<matplotlib.image.AxesImage at 0x7d734c98c0d0>"
            ]
          },
          "metadata": {},
          "execution_count": 35
        },
        {
          "output_type": "display_data",
          "data": {
            "text/plain": [
              "<Figure size 480x480 with 1 Axes>"
            ],
            "image/png": "[encoded data removed]"
          },
          "metadata": {}
        }
      ]
    },
    {
      "cell_type": "code",
      "source": [
        "y_predict=model.predict(X_test)"
      ],
      "metadata": {
        "colab": {
          "base_uri": "https://localhost:8080/"
        },
        "id": "6a9pxL7xFLnp",
        "outputId": "7e3da1f4-be8c-4bf6-afce-4620cd92612f"
      },
      "execution_count": 36,
      "outputs": [
        {
          "output_type": "stream",
          "name": "stdout",
          "text": [
            "313/313 [==============================] - 1s 3ms/step\n"
          ]
        }
      ]
    },
    {
      "cell_type": "code",
      "source": [
        "plt.matshow(X_test[217])"
      ],
      "metadata": {
        "colab": {
          "base_uri": "https://localhost:8080/",
          "height": 455
        },
        "id": "TYJWUSN5FPnF",
        "outputId": "e6821549-0d98-4e37-ada2-49449196871e"
      },
      "execution_count": 38,
      "outputs": [
        {
          "output_type": "execute_result",
          "data": {
            "text/plain": [
              "<matplotlib.image.AxesImage at 0x7d734deea0b0>"
            ]
          },
          "metadata": {},
          "execution_count": 38
        },
        {
          "output_type": "display_data",
          "data": {
            "text/plain": [
              "<Figure size 480x480 with 1 Axes>"
            ],
            "image/png": "[encoded data removed]"
          },
          "metadata": {}
        }
      ]
    },
    {
      "cell_type": "code",
      "source": [
        "y_predict[217]"
      ],
      "metadata": {
        "colab": {
          "base_uri": "https://localhost:8080/"
        },
        "id": "jeB6VR4vFXks",
        "outputId": "e21648e5-667a-43f8-ed97-c6aadac7b140"
      },
      "execution_count": 39,
      "outputs": [
        {
          "output_type": "execute_result",
          "data": {
            "text/plain": [
              "array([2.7440535e-02, 1.7033634e-01, 1.4774167e-03, 3.2372095e-03,\n",
              "       3.0874475e-03, 2.8988661e-04, 1.1649755e-03, 1.4936436e-03,\n",
              "       1.0035191e-01, 6.9112062e-01], dtype=float32)"
            ]
          },
          "metadata": {},
          "execution_count": 39
        }
      ]
    },
    {
      "cell_type": "code",
      "source": [
        "np.argmax(y_predict[217])"
      ],
      "metadata": {
        "colab": {
          "base_uri": "https://localhost:8080/"
        },
        "id": "tFguZ9scFdkb",
        "outputId": "294ff777-a9b2-4f6d-e24e-a955d595b981"
      },
      "execution_count": 40,
      "outputs": [
        {
          "output_type": "execute_result",
          "data": {
            "text/plain": [
              "9"
            ]
          },
          "metadata": {},
          "execution_count": 40
        }
      ]
    },
    {
      "cell_type": "code",
      "source": [],
      "metadata": {
        "id": "3WX7RxzjFg9t"
      },
      "execution_count": null,
      "outputs": []
    }
  ]
}